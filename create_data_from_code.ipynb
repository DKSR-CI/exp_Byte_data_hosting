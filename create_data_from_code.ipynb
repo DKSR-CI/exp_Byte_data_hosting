{
 "cells": [
  {
   "cell_type": "code",
   "execution_count": 2,
   "metadata": {},
   "outputs": [],
   "source": [
    "from data_functions import *\n",
    "import tkinter as tk\n",
    "import json\n",
    "import os\n",
    "#import logging"
   ]
  },
  {
   "cell_type": "code",
   "execution_count": 17,
   "metadata": {},
   "outputs": [],
   "source": [
    "#print('Bitte nenne mir eine Stadt oder Gemeinde.')\n",
    "\n",
    "current_dir = os.getcwd()\n",
    "current_dir = os.path.normpath(current_dir)\n",
    "current_dir = current_dir.replace(\"\\\\\", \"/\")\n",
    "\n",
    "#logger = logging.getLogger()"
   ]
  },
  {
   "cell_type": "code",
   "execution_count": 30,
   "metadata": {},
   "outputs": [],
   "source": [
    "def download_data(data_export):\n",
    "    with open(current_dir + '/data/processed/chart_data.json', 'w') as fp:\n",
    "        json.dump(data_export, fp)\n",
    "\n",
    "def submit_data(city):\n",
    "    try:\n",
    "        export_1, LK_name = energy_data(city)\n",
    "        print('Energie-Daten wurden erzeugt.')\n",
    "        export_2 = kfz_data(LK_name)\n",
    "        print('KFZ-Daten wurden erzeugt.')\n",
    "        export_3 = population_data(city)\n",
    "        print('Bevölkerungs-Daten wurden erzeugt.')\n",
    "        export_4 = mobile_data(city)\n",
    "        print('Mobilfunk-Daten wurden erzeugt.')\n",
    "\n",
    "        data_export = {'Energie':export_1, 'KFZ':export_2, 'Bevoelkerung':export_3, 'Mobilfunk':export_4}\n",
    "\n",
    "        download_data(data_export)\n",
    "        print('file saved.')\n",
    "        \n",
    "    except:\n",
    "        print('input error')"
   ]
  },
  {
   "cell_type": "code",
   "execution_count": 29,
   "metadata": {},
   "outputs": [
    {
     "name": "stdout",
     "output_type": "stream",
     "text": [
      "export_1\n",
      "export_2\n",
      "export_3\n",
      "export_4\n",
      "file saved.\n"
     ]
    }
   ],
   "source": [
    "# neue Stadt oder Gemeinde\n",
    "\n",
    "city = 'Ingolstadt'\n",
    "\n",
    "submit_data(city)"
   ]
  },
  {
   "cell_type": "code",
   "execution_count": null,
   "metadata": {},
   "outputs": [],
   "source": []
  }
 ],
 "metadata": {
  "kernelspec": {
   "display_name": ".venv",
   "language": "python",
   "name": "python3"
  },
  "language_info": {
   "codemirror_mode": {
    "name": "ipython",
    "version": 3
   },
   "file_extension": ".py",
   "mimetype": "text/x-python",
   "name": "python",
   "nbconvert_exporter": "python",
   "pygments_lexer": "ipython3",
   "version": "3.11.5"
  }
 },
 "nbformat": 4,
 "nbformat_minor": 2
}
