{
 "cells": [
  {
   "cell_type": "code",
   "execution_count": 1,
   "metadata": {},
   "outputs": [],
   "source": [
    "import pandas as pd\n",
    "import numpy as np\n",
    "import os"
   ]
  },
  {
   "cell_type": "markdown",
   "metadata": {},
   "source": [
    "## function testing"
   ]
  },
  {
   "cell_type": "code",
   "execution_count": 2,
   "metadata": {},
   "outputs": [],
   "source": [
    "def rename_duplicates(Gemeinde:str,Landkreis:str,name_duplicates:list) -> str:\n",
    "    if Gemeinde in name_duplicates:\n",
    "        return f'{Gemeinde} ({Landkreis})'\n",
    "    else:\n",
    "        return Gemeinde\n",
    "\n",
    "\n",
    "def first_setup() -> pd.DataFrame:\n",
    "    ############# MOBILE:\n",
    "    mobile = pd.read_excel('../data/external/bba_06_2023.xlsx', sheet_name='Fläche', skiprows=2, header=1)\n",
    "    mobile = mobile[(mobile['Land']=='Freistaat Bayern') & (mobile['Verwaltungsebene']!='2 - Land') & (~mobile['Name'].str.contains('Bezirk'))].reset_index(drop=True)\n",
    "\n",
    "    # Landkreis-Code auf einheitliches Format bringen\n",
    "    mobile['code_fill'] = mobile['AGS'].apply(lambda x: int(str(x)[1:].ljust(6, '0')))\n",
    "    mobile['Name'] = mobile['Name'].apply(lambda x: x.replace('Gemeinde ','').replace('Landkreis ',''))\n",
    "\n",
    "    # Alle Doppelungen löschen -> Kreisfreie Städte tauchen nur in der Liste für Gemeinde/Städte auf\n",
    "    mobile = mobile.sort_values('Verwaltungsebene',ascending=False,ignore_index=True)\n",
    "    mobile.drop_duplicates('code_fill',ignore_index=True,inplace=True)\n",
    "\n",
    "    # Jeder Gemeinde wird ihr Landkreis zugeordnen\n",
    "    LK = mobile[mobile['Verwaltungsebene']=='3 - Kreis']\n",
    "    LK_dict = LK[['code_fill','Name']].set_index('code_fill').to_dict()['Name']\n",
    "    mobile['LK_code'] = mobile['code_fill'].apply(lambda x: int(str(x)[:3]+'000'))\n",
    "    mobile['Landkreis'] = mobile['LK_code'].map(LK_dict)\n",
    "\n",
    "    # Suche nach allen mehrfach benannten Gemeinden und bei Bedarf Hinzufügen des Landkreises\n",
    "    name_counts = mobile[mobile['Verwaltungsebene']=='4 - Gemeinde']['Name'].value_counts()\n",
    "    name_duplicates = name_counts[name_counts>1].keys()\n",
    "    mobile['Name'] = mobile.apply(lambda x: rename_duplicates(x.Name,x.Landkreis,name_duplicates),axis=1)\n",
    "\n",
    "    # Datenfilter\n",
    "    mobile = mobile[['code_fill','Name','Verwaltungsebene','2G','4G','5G']]\n",
    "\n",
    "    return mobile"
   ]
  },
  {
   "cell_type": "code",
   "execution_count": 3,
   "metadata": {},
   "outputs": [],
   "source": [
    "def mobile_data(code, mobile):\n",
    "    mobile_i = mobile[mobile['code_fill']==code].reset_index(drop=True)\n",
    "    \n",
    "    export_mobile = {'2G':round(mobile_i['2G'][0],1), \n",
    "                     '4G':round(mobile_i['4G'][0],1), \n",
    "                     '5G':round(mobile_i['5G'][0],1), \n",
    "                     'link':'https://gigabitgrundbuch.bund.de/GIGA/DE/MobilfunkMonitoring/Downloads/start.html'}\n",
    "    return export_mobile"
   ]
  },
  {
   "cell_type": "code",
   "execution_count": 4,
   "metadata": {},
   "outputs": [],
   "source": [
    "mobile = first_setup()"
   ]
  },
  {
   "cell_type": "code",
   "execution_count": 269,
   "metadata": {},
   "outputs": [],
   "source": [
    "Landkreise = mobile[mobile['Verwaltungsebene']=='3 - Kreis'][['code_fill','Name']].set_index('code_fill').to_dict()['Name']\n",
    "Gemeinden = mobile[mobile['Verwaltungsebene']=='4 - Gemeinde'][['code_fill','Name']].set_index('code_fill').to_dict()['Name']"
   ]
  },
  {
   "cell_type": "code",
   "execution_count": 275,
   "metadata": {},
   "outputs": [],
   "source": [
    "LK_codes = list(Landkreise.keys())\n",
    "town_codes = list(Gemeinden.keys())"
   ]
  },
  {
   "cell_type": "code",
   "execution_count": 295,
   "metadata": {},
   "outputs": [
    {
     "data": {
      "text/html": [
       "<div>\n",
       "<style scoped>\n",
       "    .dataframe tbody tr th:only-of-type {\n",
       "        vertical-align: middle;\n",
       "    }\n",
       "\n",
       "    .dataframe tbody tr th {\n",
       "        vertical-align: top;\n",
       "    }\n",
       "\n",
       "    .dataframe thead th {\n",
       "        text-align: right;\n",
       "    }\n",
       "</style>\n",
       "<table border=\"1\" class=\"dataframe\">\n",
       "  <thead>\n",
       "    <tr style=\"text-align: right;\">\n",
       "      <th></th>\n",
       "      <th>code_fill</th>\n",
       "      <th>Name</th>\n",
       "      <th>Verwaltungsebene</th>\n",
       "      <th>2G</th>\n",
       "      <th>4G</th>\n",
       "      <th>5G</th>\n",
       "    </tr>\n",
       "  </thead>\n",
       "  <tbody>\n",
       "  </tbody>\n",
       "</table>\n",
       "</div>"
      ],
      "text/plain": [
       "Empty DataFrame\n",
       "Columns: [code_fill, Name, Verwaltungsebene, 2G, 4G, 5G]\n",
       "Index: []"
      ]
     },
     "execution_count": 295,
     "metadata": {},
     "output_type": "execute_result"
    }
   ],
   "source": [
    "errors = []\n",
    "for code in LK_codes:\n",
    "    try:\n",
    "        result = mobile_data(code, mobile)\n",
    "    except:\n",
    "        errors.append(code)\n",
    "\n",
    "for code in town_codes:\n",
    "    try:\n",
    "        result = mobile_data(code, mobile)\n",
    "    except:\n",
    "        errors.append(code)        \n",
    "\n",
    "errors = list(set(errors))\n",
    "\n",
    "mobile[mobile['code_fill'].isin(errors)]"
   ]
  },
  {
   "cell_type": "code",
   "execution_count": null,
   "metadata": {},
   "outputs": [],
   "source": []
  }
 ],
 "metadata": {
  "kernelspec": {
   "display_name": ".venv",
   "language": "python",
   "name": "python3"
  },
  "language_info": {
   "codemirror_mode": {
    "name": "ipython",
    "version": 3
   },
   "file_extension": ".py",
   "mimetype": "text/x-python",
   "name": "python",
   "nbconvert_exporter": "python",
   "pygments_lexer": "ipython3",
   "version": "3.11.5"
  }
 },
 "nbformat": 4,
 "nbformat_minor": 2
}
